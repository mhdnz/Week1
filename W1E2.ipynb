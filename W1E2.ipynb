{
 "cells": [
  {
   "cell_type": "code",
   "execution_count": 1,
   "metadata": {},
   "outputs": [],
   "source": [
    "def main() :\n",
    "    TEAM_COUNT = 4\n",
    "    RESULTS_INDEX = 1\n",
    "\n",
    "    WIN_INDEX = 0\n",
    "    LOSE_INDEX = 1\n",
    "    DRAW_INDEX = 2\n",
    "    GOAL_DIFF_INDEX = 3\n",
    "    POINTS_INDEX = 4\n",
    "\n",
    "    DRAW_POINT = 1\n",
    "    WIN_POINT = 3\n",
    "\n",
    "    teams = (\"Iran\", \"Spain\", \"Morocco\", \"Portugal\")\n",
    "\n",
    "    results = []\n",
    "    for team_index in range(TEAM_COUNT):\n",
    "        results.append([teams[team_index], [0, 0, 0, 0, 0]])\n",
    "\n",
    "    print(\"Please enter results for each game using two numbers serperated by '-'\")\n",
    "    print(\"=\"*40)\n",
    "\n",
    "    for first_team_index in range(TEAM_COUNT):\n",
    "        for second_team_index in range(first_team_index+1, TEAM_COUNT):\n",
    "\n",
    "            while True:\n",
    "                result = input(\"Please enter result for the game {:>8} - {:>8} : \".format(teams[first_team_index], teams[second_team_index]))\n",
    "                str_first, str_second = result.split(\"-\")\n",
    "                if str_first.isdigit() == True and str_second.isdigit() == True:\n",
    "                    break\n",
    "\n",
    "            first = int(str_first)\n",
    "            second = int(str_second)\n",
    "\n",
    "            if first == second:\n",
    "                results[first_team_index][1][DRAW_INDEX] += 1\n",
    "                results[second_team_index][1][DRAW_INDEX] += 1\n",
    "                results[first_team_index][1][POINTS_INDEX] += DRAW_POINT\n",
    "                results[second_team_index][1][POINTS_INDEX] += DRAW_POINT\n",
    "            elif first < second :\n",
    "                results[first_team_index][1][LOSE_INDEX] += 1\n",
    "                results[second_team_index][1][WIN_INDEX] += 1\n",
    "                results[first_team_index][1][GOAL_DIFF_INDEX] += (first-second)\n",
    "                results[second_team_index][1][GOAL_DIFF_INDEX] += (second-first)\n",
    "                results[second_team_index][1][POINTS_INDEX] += WIN_POINT\n",
    "            else:\n",
    "                results[first_team_index][1][WIN_INDEX] += 1\n",
    "                results[second_team_index][1][LOSE_INDEX] += 1\n",
    "                results[first_team_index][1][GOAL_DIFF_INDEX] += (first-second)\n",
    "                results[second_team_index][1][GOAL_DIFF_INDEX] += (second-first)\n",
    "                results[first_team_index][1][POINTS_INDEX] += WIN_POINT\n",
    "\n",
    "\n",
    "    final_table = sorted(results)\n",
    "\n",
    "    for first_team in range(TEAM_COUNT - 1, -1, -1):\n",
    "        for second_team in range(first_team - 1, -1, -1):\n",
    "            if final_table[first_team][1][POINTS_INDEX] > final_table[second_team][1][POINTS_INDEX]:\n",
    "                temp = final_table[first_team]\n",
    "                final_table[first_team] = final_table[second_team]\n",
    "                final_table[second_team] = temp\n",
    "            elif final_table[first_team][1][POINTS_INDEX] == final_table[second_team][1][POINTS_INDEX] and final_table[first_team][1][WIN_INDEX] > final_table[second_team - 1][1][WIN_INDEX]:\n",
    "                temp = final_table[first_team]\n",
    "                final_table[first_team] = final_table[second_team]\n",
    "                final_table[second_team] = temp\n",
    "\n",
    "    print(\"=\"*40)\n",
    "    for team in range(TEAM_COUNT):\n",
    "        wins, loses, draws, diff, points = final_table[team][1]\n",
    "        print(\"{} wins:{} , loses:{} , draws:{} , goal difference:{} , points:{}\".format(final_table[team][0], wins, loses, draws, diff, points))\n"
   ]
  },
  {
   "cell_type": "code",
   "execution_count": 2,
   "metadata": {},
   "outputs": [
    {
     "name": "stdout",
     "output_type": "stream",
     "text": [
      "Please enter results for each game using two numbers serperated by '-'\n",
      "========================================\n",
      "Please enter result for the game     Iran -    Spain : 2-2\n",
      "Please enter result for the game     Iran -  Morocco : 1-2\n",
      "Please enter result for the game     Iran - Portugal : 2-1\n",
      "Please enter result for the game    Spain -  Morocco : 3-1\n",
      "Please enter result for the game    Spain - Portugal : 2-2\n",
      "Please enter result for the game  Morocco - Portugal : 1-2\n",
      "========================================\n",
      "Spain wins:1 , loses:0 , draws:2 , goal difference:2 , points:5\n",
      "Iran wins:1 , loses:1 , draws:1 , goal difference:0 , points:4\n",
      "Portugal wins:1 , loses:1 , draws:1 , goal difference:0 , points:4\n",
      "Morocco wins:1 , loses:2 , draws:0 , goal difference:-2 , points:3\n"
     ]
    }
   ],
   "source": [
    "main()"
   ]
  },
  {
   "cell_type": "code",
   "execution_count": 3,
   "metadata": {},
   "outputs": [
    {
     "name": "stdout",
     "output_type": "stream",
     "text": [
      "Please enter results for each game using two numbers serperated by '-'\n",
      "========================================\n",
      "Please enter result for the game     Iran -    Spain : 1-1\n",
      "Please enter result for the game     Iran -  Morocco : 1-1\n",
      "Please enter result for the game     Iran - Portugal : 1-1\n",
      "Please enter result for the game    Spain -  Morocco : 1-1\n",
      "Please enter result for the game    Spain - Portugal : 1-1\n",
      "Please enter result for the game  Morocco - Portugal : 1-1\n",
      "========================================\n",
      "Iran wins:0 , loses:0 , draws:3 , goal difference:0 , points:3\n",
      "Morocco wins:0 , loses:0 , draws:3 , goal difference:0 , points:3\n",
      "Portugal wins:0 , loses:0 , draws:3 , goal difference:0 , points:3\n",
      "Spain wins:0 , loses:0 , draws:3 , goal difference:0 , points:3\n"
     ]
    }
   ],
   "source": [
    "main()"
   ]
  },
  {
   "cell_type": "code",
   "execution_count": 4,
   "metadata": {},
   "outputs": [
    {
     "name": "stdout",
     "output_type": "stream",
     "text": [
      "Please enter results for each game using two numbers serperated by '-'\n",
      "========================================\n",
      "Please enter result for the game     Iran -    Spain : 1-0\n",
      "Please enter result for the game     Iran -  Morocco : 1-0\n",
      "Please enter result for the game     Iran - Portugal : 1-0\n",
      "Please enter result for the game    Spain -  Morocco : 1-0\n",
      "Please enter result for the game    Spain - Portugal : 1-0\n",
      "Please enter result for the game  Morocco - Portugal : 1-0\n",
      "========================================\n",
      "Iran wins:3 , loses:0 , draws:0 , goal difference:3 , points:9\n",
      "Spain wins:2 , loses:1 , draws:0 , goal difference:1 , points:6\n",
      "Morocco wins:1 , loses:2 , draws:0 , goal difference:-1 , points:3\n",
      "Portugal wins:0 , loses:3 , draws:0 , goal difference:-3 , points:0\n"
     ]
    }
   ],
   "source": [
    "main()"
   ]
  },
  {
   "cell_type": "code",
   "execution_count": null,
   "metadata": {},
   "outputs": [],
   "source": []
  }
 ],
 "metadata": {
  "kernelspec": {
   "display_name": "Python 3",
   "language": "python",
   "name": "python3"
  },
  "language_info": {
   "codemirror_mode": {
    "name": "ipython",
    "version": 3
   },
   "file_extension": ".py",
   "mimetype": "text/x-python",
   "name": "python",
   "nbconvert_exporter": "python",
   "pygments_lexer": "ipython3",
   "version": "3.8.3"
  }
 },
 "nbformat": 4,
 "nbformat_minor": 4
}
