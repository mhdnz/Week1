{
 "cells": [
  {
   "cell_type": "code",
   "execution_count": 1,
   "metadata": {},
   "outputs": [],
   "source": [
    "def main():\n",
    "    \n",
    "    GENRE_COUNT = 6\n",
    "    genres = (\"Horror\", \"Romance\", \"Comedy\", \"History\", \"Adventure\", \"Action\")\n",
    "\n",
    "    interests = []\n",
    "    for i in range(GENRE_COUNT):\n",
    "        interests.append([0, genres[i]])\n",
    "\n",
    "    person_count = int(input(\"Please enter person count : \"))\n",
    "    print(\"=\"*40)\n",
    "\n",
    "    for person in range(person_count):\n",
    "        person_interest = input(\"{} : enter name followed by interested genres : \".format(person+1)).split(\" \")\n",
    "        for i in range(1, len(person_interest)):\n",
    "            if person_interest[i] in genres:\n",
    "                interests[genres.index(person_interest[i])][0] += 1\n",
    "\n",
    "    for i in range(GENRE_COUNT-1, -1, -1):\n",
    "        for j in range(i-1, -1, -1):\n",
    "            if interests[i][0] > interests[j][0]:\n",
    "                temp = interests[i]\n",
    "                interests[i] = interests[j]\n",
    "                interests[j] = temp\n",
    "            elif interests[i][0] == interests[j][0] and interests[i][1] < interests[j][1]:\n",
    "                temp = interests[i]\n",
    "                interests[i] = interests[j]\n",
    "                interests[j] = temp\n",
    "\n",
    "    print(\"=\"*40)\n",
    "    for i in range(GENRE_COUNT):\n",
    "        print(\"{} : {}\".format(interests[i][1],interests[i][0]))\n"
   ]
  },
  {
   "cell_type": "code",
   "execution_count": 2,
   "metadata": {},
   "outputs": [
    {
     "name": "stdout",
     "output_type": "stream",
     "text": [
      "Please enter person count : 4\n",
      "========================================\n",
      "1 : enter name followed by interested genres : Hossein Horror Romance Comedy\n",
      "2 : enter name followed by interested genres : mohesn Horror Action Comedy\n",
      "3 : enter name followed by interested genres : mina Adventure Action History\n",
      "4 : enter name followed by interested genres : sajjad Romance History Action\n",
      "========================================\n",
      "Action : 3\n",
      "Comedy : 2\n",
      "History : 2\n",
      "Horror : 2\n",
      "Romance : 2\n",
      "Adventure : 1\n"
     ]
    }
   ],
   "source": [
    "main()"
   ]
  },
  {
   "cell_type": "code",
   "execution_count": 3,
   "metadata": {},
   "outputs": [
    {
     "name": "stdout",
     "output_type": "stream",
     "text": [
      "Please enter person count : 2\n",
      "========================================\n",
      "1 : enter name followed by interested genres : ALi Comedy Cartoon Action\n",
      "2 : enter name followed by interested genres : Mehdi History Romance Horror Action Adventure\n",
      "========================================\n",
      "Action : 2\n",
      "Adventure : 1\n",
      "Comedy : 1\n",
      "History : 1\n",
      "Horror : 1\n",
      "Romance : 1\n"
     ]
    }
   ],
   "source": [
    "main()"
   ]
  },
  {
   "cell_type": "markdown",
   "metadata": {},
   "source": []
  }
 ],
 "metadata": {
  "kernelspec": {
   "display_name": "Python 3",
   "language": "python",
   "name": "python3"
  },
  "language_info": {
   "codemirror_mode": {
    "name": "ipython",
    "version": 3
   },
   "file_extension": ".py",
   "mimetype": "text/x-python",
   "name": "python",
   "nbconvert_exporter": "python",
   "pygments_lexer": "ipython3",
   "version": "3.8.3"
  }
 },
 "nbformat": 4,
 "nbformat_minor": 4
}
