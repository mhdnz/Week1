{
 "cells": [
  {
   "cell_type": "code",
   "execution_count": 1,
   "metadata": {},
   "outputs": [],
   "source": [
    "def main():\n",
    "    statements = input(\"Please enter your statement : \").split(\".\")\n",
    "\n",
    "    words_cnt = 0\n",
    "    for i in range(len(statements)):\n",
    "        statements[i] = statements[i].replace(\",\", \" \")\n",
    "        words = statements[i].split(\" \")\n",
    "        first_word = True\n",
    "        for j in range(0, len(words)):\n",
    "            if words[j].replace(\" \", \"\") == \"\":\n",
    "                continue\n",
    "            words_cnt += 1\n",
    "            if first_word:\n",
    "                first_word = False\n",
    "                continue\n",
    "            if words[j].capitalize() == words[j]:\n",
    "                print(words_cnt, \" :\", words[j].replace(\".\", \"\").replace(\",\", \"\"))\n"
   ]
  },
  {
   "cell_type": "code",
   "execution_count": 2,
   "metadata": {},
   "outputs": [
    {
     "name": "stdout",
     "output_type": "stream",
     "text": [
      "Please enter your statement : The Persian League is the largest sport event dedicated to the deprived areas of Iran. The Persian League promotes peace and friendship. This video was captured by one of our heroes who wishes peace.\n",
      "2  : Persian\n",
      "3  : League\n",
      "15  : Iran\n",
      "17  : Persian\n",
      "18  : League\n"
     ]
    }
   ],
   "source": [
    "main()"
   ]
  },
  {
   "cell_type": "code",
   "execution_count": 3,
   "metadata": {},
   "outputs": [
    {
     "name": "stdout",
     "output_type": "stream",
     "text": [
      "Please enter your statement : Recuperating from the coronavirus and plunging in the polls, President Trump is retreating to his safe spaces: Twitter, Fox, and rallies.\n",
      "10  : President\n",
      "11  : Trump\n",
      "18  : Twitter\n",
      "19  : Fox\n"
     ]
    }
   ],
   "source": [
    "main()"
   ]
  },
  {
   "cell_type": "code",
   "execution_count": null,
   "metadata": {},
   "outputs": [],
   "source": []
  }
 ],
 "metadata": {
  "kernelspec": {
   "display_name": "Python 3",
   "language": "python",
   "name": "python3"
  },
  "language_info": {
   "codemirror_mode": {
    "name": "ipython",
    "version": 3
   },
   "file_extension": ".py",
   "mimetype": "text/x-python",
   "name": "python",
   "nbconvert_exporter": "python",
   "pygments_lexer": "ipython3",
   "version": "3.8.3"
  }
 },
 "nbformat": 4,
 "nbformat_minor": 4
}
