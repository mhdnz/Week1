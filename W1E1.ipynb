{
 "cells": [
  {
   "cell_type": "code",
   "execution_count": 1,
   "metadata": {},
   "outputs": [],
   "source": [
    "def is_prime(number):\n",
    "    if number ==1 :\n",
    "        return False\n",
    "    for i in range (2,(number//2)+1):\n",
    "        if (number%i)==0 :\n",
    "            return False\n",
    "    else:\n",
    "        return True"
   ]
  },
  {
   "cell_type": "code",
   "execution_count": 2,
   "metadata": {},
   "outputs": [],
   "source": [
    "def prime_devisor_count(number):\n",
    "    if is_prime(number):\n",
    "        return 1\n",
    "    cnt=0\n",
    "    for i in range (2,number//2):\n",
    "        if (number%i)==0 and is_prime(i):\n",
    "            cnt +=1\n",
    "    return cnt"
   ]
  },
  {
   "cell_type": "code",
   "execution_count": 3,
   "metadata": {},
   "outputs": [],
   "source": [
    "def main():\n",
    "    NUMBER_COUNT = 10\n",
    "    print(\"please enter {} positive numbers \".format(NUMBER_COUNT))\n",
    "\n",
    "    num_prime_devisors = []\n",
    "    num_count=0\n",
    "    while(num_count<NUMBER_COUNT):\n",
    "        x=int(input(\"{:>2} : please enter a number \".format(num_count+1)))\n",
    "        if x <=0 :\n",
    "            continue\n",
    "        num_prime_devisors.append((prime_devisor_count(x),x))\n",
    "        num_count +=1\n",
    "\n",
    "    print(\"=\"*40)\n",
    "    print(\"{} has {} prime devisor(s)\".format(sorted(num_prime_devisors)[-1][1],sorted(num_prime_devisors)[-1][0]))"
   ]
  },
  {
   "cell_type": "code",
   "execution_count": 4,
   "metadata": {},
   "outputs": [
    {
     "name": "stdout",
     "output_type": "stream",
     "text": [
      "please enter 10 positive numbers \n",
      " 1 : please enter a number 1\n",
      " 2 : please enter a number 2\n",
      " 3 : please enter a number 3\n",
      " 4 : please enter a number 4\n",
      " 5 : please enter a number 5\n",
      " 6 : please enter a number 6\n",
      " 7 : please enter a number 7\n",
      " 8 : please enter a number 8\n",
      " 9 : please enter a number 9\n",
      "10 : please enter a number 10\n",
      "========================================\n",
      "10 has 1 prime devisor(s)\n"
     ]
    }
   ],
   "source": [
    "main()"
   ]
  },
  {
   "cell_type": "code",
   "execution_count": 5,
   "metadata": {},
   "outputs": [
    {
     "name": "stdout",
     "output_type": "stream",
     "text": [
      "please enter 10 positive numbers \n",
      " 1 : please enter a number 21\n",
      " 2 : please enter a number 324\n",
      " 3 : please enter a number 5566565\n",
      " 4 : please enter a number 2343\n",
      " 5 : please enter a number 234\n",
      " 6 : please enter a number 6667\n",
      " 7 : please enter a number 8\n",
      " 8 : please enter a number 2\n",
      " 9 : please enter a number 3\n",
      "10 : please enter a number 45\n",
      "========================================\n",
      "5566565 has 4 prime devisor(s)\n"
     ]
    }
   ],
   "source": [
    "main()"
   ]
  },
  {
   "cell_type": "code",
   "execution_count": 6,
   "metadata": {},
   "outputs": [
    {
     "name": "stdout",
     "output_type": "stream",
     "text": [
      "please enter 10 positive numbers \n",
      " 1 : please enter a number 2323\n",
      " 2 : please enter a number 23324\n",
      " 3 : please enter a number 12\n",
      " 4 : please enter a number 667\n",
      " 5 : please enter a number 343\n",
      " 6 : please enter a number 7873\n",
      " 7 : please enter a number 324434\n",
      " 8 : please enter a number 2121\n",
      " 9 : please enter a number 111222\n",
      "10 : please enter a number -1\n",
      "10 : please enter a number 211212\n",
      "========================================\n",
      "111222 has 4 prime devisor(s)\n"
     ]
    }
   ],
   "source": [
    "main()"
   ]
  },
  {
   "cell_type": "code",
   "execution_count": null,
   "metadata": {},
   "outputs": [],
   "source": []
  }
 ],
 "metadata": {
  "kernelspec": {
   "display_name": "Python 3",
   "language": "python",
   "name": "python3"
  },
  "language_info": {
   "codemirror_mode": {
    "name": "ipython",
    "version": 3
   },
   "file_extension": ".py",
   "mimetype": "text/x-python",
   "name": "python",
   "nbconvert_exporter": "python",
   "pygments_lexer": "ipython3",
   "version": "3.8.3"
  }
 },
 "nbformat": 4,
 "nbformat_minor": 4
}
