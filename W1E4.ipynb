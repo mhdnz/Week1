{
 "cells": [
  {
   "cell_type": "code",
   "execution_count": 2,
   "metadata": {},
   "outputs": [],
   "source": [
    "def main():\n",
    "\n",
    "    participant_count = int(input(\"Please enter number of participants : \"))\n",
    "    print(\"=\"*40)\n",
    "\n",
    "    participants = []\n",
    "    print(\"Please enter each participant in this format -> gender.name.programming language\")\n",
    "    for i in range(participant_count):\n",
    "        participant = input(\"Please enter data for participant number {0} : \".format(i+1)).split(\".\")\n",
    "        participant[1] = participant[1].capitalize()\n",
    "        participants.append(participant)\n",
    "\n",
    "    for i in range(participant_count-1, -1, -1):\n",
    "        for j in range(i-1, -1, -1):\n",
    "            if participants[i][0] < participants[j][0]:   # compare genders\n",
    "                temp = participants[i]\n",
    "                participants[i] = participants[j]\n",
    "                participants[j] = temp\n",
    "            elif participants[i][0] == participants[j][0] and participants[i][1] < participants[j][1]:   # compare names\n",
    "                temp = participants[i]\n",
    "                participants[i] = participants[j]\n",
    "                participants[j] = temp\n",
    "\n",
    "    print(\"=\"*40)\n",
    "    for i in range(participant_count):\n",
    "        print(\"{} {} {}\".format(participants[i][0], participants[i][1], participants[i][2]))"
   ]
  },
  {
   "cell_type": "code",
   "execution_count": 3,
   "metadata": {},
   "outputs": [
    {
     "name": "stdout",
     "output_type": "stream",
     "text": [
      "Please enter number of participants : 4\n",
      "========================================\n",
      "Please enter each participant in this format -> gender.name.programming language\n",
      "Please enter data for participant number 1 : m.hosSein.python\n",
      "Please enter data for participant number 2 : f.miNa.C\n",
      "Please enter data for participant number 3 : m.aHMad.C++\n",
      "Please enter data for participant number 4 : f.Sara.java\n",
      "========================================\n",
      "f Mina C\n",
      "f Sara java\n",
      "m Ahmad C++\n",
      "m Hossein python\n"
     ]
    }
   ],
   "source": [
    "main()"
   ]
  },
  {
   "cell_type": "code",
   "execution_count": 4,
   "metadata": {},
   "outputs": [
    {
     "name": "stdout",
     "output_type": "stream",
     "text": [
      "Please enter number of participants : 3\n",
      "========================================\n",
      "Please enter each participant in this format -> gender.name.programming language\n",
      "Please enter data for participant number 1 : m.MehDi.python\n",
      "Please enter data for participant number 2 : f.SARA.java\n",
      "Please enter data for participant number 3 : m.ali.C\n",
      "========================================\n",
      "f Sara java\n",
      "m Ali C\n",
      "m Mehdi python\n"
     ]
    }
   ],
   "source": [
    "main()"
   ]
  },
  {
   "cell_type": "code",
   "execution_count": null,
   "metadata": {},
   "outputs": [],
   "source": []
  }
 ],
 "metadata": {
  "kernelspec": {
   "display_name": "Python 3",
   "language": "python",
   "name": "python3"
  },
  "language_info": {
   "codemirror_mode": {
    "name": "ipython",
    "version": 3
   },
   "file_extension": ".py",
   "mimetype": "text/x-python",
   "name": "python",
   "nbconvert_exporter": "python",
   "pygments_lexer": "ipython3",
   "version": "3.8.3"
  }
 },
 "nbformat": 4,
 "nbformat_minor": 4
}
